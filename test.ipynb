{
 "cells": [
  {
   "cell_type": "code",
   "execution_count": 4,
   "metadata": {},
   "outputs": [
    {
     "name": "stdout",
     "output_type": "stream",
     "text": [
      "Value extracted from <MultiplyResult>: 75\n"
     ]
    }
   ],
   "source": [
    "import xml.etree.ElementTree as ET\n",
    "\n",
    "# The XML response as a string\n",
    "xml_response = \"\"\"\n",
    "<?xml version=\"1.0\" encoding=\"utf-8\"?>\n",
    "<soap:Envelope xmlns:soap=\"http://schemas.xmlsoap.org/soap/envelope/\" xmlns:xsi=\"http://www.w3.org/2001/XMLSchema-instance\" xmlns:xsd=\"http://www.w3.org/2001/XMLSchema\">\n",
    "    <soap:Body>\n",
    "        <MultiplyResponse xmlns=\"http://tempuri.org/\">\n",
    "            <MultiplyResult>75</MultiplyResult>\n",
    "        </MultiplyResponse>\n",
    "    </soap:Body>\n",
    "</soap:Envelope>\n",
    "\"\"\"\n",
    "\n",
    "# Remove the XML declaration\n",
    "start_idx = xml_response.find('<soap:Body>')\n",
    "end_idx = xml_response.rfind('</soap:Envelope>')\n",
    "cleaned_xml = xml_response[start_idx:end_idx]\n",
    "\n",
    "# Parse the cleaned XML\n",
    "root = ET.fromstring(cleaned_xml)\n",
    "\n",
    "# Find the MultiplyResult element and get its text content\n",
    "multiply_result_element = root.find(\".//{http://tempuri.org/}MultiplyResult\")\n",
    "if multiply_result_element is not None:\n",
    "    multiply_result_text = multiply_result_element.text\n",
    "    print(\"Value extracted from <MultiplyResult>:\", multiply_result_text)\n",
    "else:\n",
    "    print(\"MultiplyResult element not found in the XML\")\n",
    "\n"
   ]
  },
  {
   "cell_type": "code",
   "execution_count": null,
   "metadata": {},
   "outputs": [],
   "source": []
  }
 ],
 "metadata": {
  "kernelspec": {
   "display_name": "concured",
   "language": "python",
   "name": "python3"
  },
  "language_info": {
   "codemirror_mode": {
    "name": "ipython",
    "version": 3
   },
   "file_extension": ".py",
   "mimetype": "text/x-python",
   "name": "python",
   "nbconvert_exporter": "python",
   "pygments_lexer": "ipython3",
   "version": "3.11.2"
  },
  "orig_nbformat": 4
 },
 "nbformat": 4,
 "nbformat_minor": 2
}
